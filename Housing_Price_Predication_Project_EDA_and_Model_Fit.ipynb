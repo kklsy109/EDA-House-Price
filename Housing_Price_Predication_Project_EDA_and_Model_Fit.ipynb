{
 "cells": [
  {
   "cell_type": "code",
   "execution_count": 1,
   "id": "543cbb40",
   "metadata": {},
   "outputs": [],
   "source": [
    "import pandas as pd\n",
    "import numpy as np\n",
    "import matplotlib as matplotlib\n",
    "from pandas import DataFrame\n",
    "import matplotlib.pyplot as plt\n",
    "import seaborn as sns\n",
    "import math\n",
    "%matplotlib inline"
   ]
  },
  {
   "cell_type": "code",
   "execution_count": 2,
   "id": "45eb3ff4",
   "metadata": {},
   "outputs": [],
   "source": [
    "# Read Data form local file path\n",
    "\n",
    "train_df = pd.read_csv(\"House_Price/train.csv\",index_col=0)\n",
    "test_df = pd.read_csv(\"House_Price/test.csv\",index_col=0)"
   ]
  },
  {
   "cell_type": "code",
   "execution_count": 3,
   "id": "c1152a53",
   "metadata": {},
   "outputs": [
    {
     "data": {
      "text/html": [
       "<div>\n",
       "<style scoped>\n",
       "    .dataframe tbody tr th:only-of-type {\n",
       "        vertical-align: middle;\n",
       "    }\n",
       "\n",
       "    .dataframe tbody tr th {\n",
       "        vertical-align: top;\n",
       "    }\n",
       "\n",
       "    .dataframe thead th {\n",
       "        text-align: right;\n",
       "    }\n",
       "</style>\n",
       "<table border=\"1\" class=\"dataframe\">\n",
       "  <thead>\n",
       "    <tr style=\"text-align: right;\">\n",
       "      <th></th>\n",
       "      <th>MSSubClass</th>\n",
       "      <th>MSZoning</th>\n",
       "      <th>LotFrontage</th>\n",
       "      <th>LotArea</th>\n",
       "      <th>Street</th>\n",
       "      <th>Alley</th>\n",
       "      <th>LotShape</th>\n",
       "      <th>LandContour</th>\n",
       "      <th>Utilities</th>\n",
       "      <th>LotConfig</th>\n",
       "      <th>...</th>\n",
       "      <th>PoolArea</th>\n",
       "      <th>PoolQC</th>\n",
       "      <th>Fence</th>\n",
       "      <th>MiscFeature</th>\n",
       "      <th>MiscVal</th>\n",
       "      <th>MoSold</th>\n",
       "      <th>YrSold</th>\n",
       "      <th>SaleType</th>\n",
       "      <th>SaleCondition</th>\n",
       "      <th>SalePrice</th>\n",
       "    </tr>\n",
       "    <tr>\n",
       "      <th>Id</th>\n",
       "      <th></th>\n",
       "      <th></th>\n",
       "      <th></th>\n",
       "      <th></th>\n",
       "      <th></th>\n",
       "      <th></th>\n",
       "      <th></th>\n",
       "      <th></th>\n",
       "      <th></th>\n",
       "      <th></th>\n",
       "      <th></th>\n",
       "      <th></th>\n",
       "      <th></th>\n",
       "      <th></th>\n",
       "      <th></th>\n",
       "      <th></th>\n",
       "      <th></th>\n",
       "      <th></th>\n",
       "      <th></th>\n",
       "      <th></th>\n",
       "      <th></th>\n",
       "    </tr>\n",
       "  </thead>\n",
       "  <tbody>\n",
       "    <tr>\n",
       "      <th>1</th>\n",
       "      <td>60</td>\n",
       "      <td>RL</td>\n",
       "      <td>65.0</td>\n",
       "      <td>8450</td>\n",
       "      <td>Pave</td>\n",
       "      <td>NaN</td>\n",
       "      <td>Reg</td>\n",
       "      <td>Lvl</td>\n",
       "      <td>AllPub</td>\n",
       "      <td>Inside</td>\n",
       "      <td>...</td>\n",
       "      <td>0</td>\n",
       "      <td>NaN</td>\n",
       "      <td>NaN</td>\n",
       "      <td>NaN</td>\n",
       "      <td>0</td>\n",
       "      <td>2</td>\n",
       "      <td>2008</td>\n",
       "      <td>WD</td>\n",
       "      <td>Normal</td>\n",
       "      <td>208500</td>\n",
       "    </tr>\n",
       "    <tr>\n",
       "      <th>2</th>\n",
       "      <td>20</td>\n",
       "      <td>RL</td>\n",
       "      <td>80.0</td>\n",
       "      <td>9600</td>\n",
       "      <td>Pave</td>\n",
       "      <td>NaN</td>\n",
       "      <td>Reg</td>\n",
       "      <td>Lvl</td>\n",
       "      <td>AllPub</td>\n",
       "      <td>FR2</td>\n",
       "      <td>...</td>\n",
       "      <td>0</td>\n",
       "      <td>NaN</td>\n",
       "      <td>NaN</td>\n",
       "      <td>NaN</td>\n",
       "      <td>0</td>\n",
       "      <td>5</td>\n",
       "      <td>2007</td>\n",
       "      <td>WD</td>\n",
       "      <td>Normal</td>\n",
       "      <td>181500</td>\n",
       "    </tr>\n",
       "    <tr>\n",
       "      <th>3</th>\n",
       "      <td>60</td>\n",
       "      <td>RL</td>\n",
       "      <td>68.0</td>\n",
       "      <td>11250</td>\n",
       "      <td>Pave</td>\n",
       "      <td>NaN</td>\n",
       "      <td>IR1</td>\n",
       "      <td>Lvl</td>\n",
       "      <td>AllPub</td>\n",
       "      <td>Inside</td>\n",
       "      <td>...</td>\n",
       "      <td>0</td>\n",
       "      <td>NaN</td>\n",
       "      <td>NaN</td>\n",
       "      <td>NaN</td>\n",
       "      <td>0</td>\n",
       "      <td>9</td>\n",
       "      <td>2008</td>\n",
       "      <td>WD</td>\n",
       "      <td>Normal</td>\n",
       "      <td>223500</td>\n",
       "    </tr>\n",
       "    <tr>\n",
       "      <th>4</th>\n",
       "      <td>70</td>\n",
       "      <td>RL</td>\n",
       "      <td>60.0</td>\n",
       "      <td>9550</td>\n",
       "      <td>Pave</td>\n",
       "      <td>NaN</td>\n",
       "      <td>IR1</td>\n",
       "      <td>Lvl</td>\n",
       "      <td>AllPub</td>\n",
       "      <td>Corner</td>\n",
       "      <td>...</td>\n",
       "      <td>0</td>\n",
       "      <td>NaN</td>\n",
       "      <td>NaN</td>\n",
       "      <td>NaN</td>\n",
       "      <td>0</td>\n",
       "      <td>2</td>\n",
       "      <td>2006</td>\n",
       "      <td>WD</td>\n",
       "      <td>Abnorml</td>\n",
       "      <td>140000</td>\n",
       "    </tr>\n",
       "    <tr>\n",
       "      <th>5</th>\n",
       "      <td>60</td>\n",
       "      <td>RL</td>\n",
       "      <td>84.0</td>\n",
       "      <td>14260</td>\n",
       "      <td>Pave</td>\n",
       "      <td>NaN</td>\n",
       "      <td>IR1</td>\n",
       "      <td>Lvl</td>\n",
       "      <td>AllPub</td>\n",
       "      <td>FR2</td>\n",
       "      <td>...</td>\n",
       "      <td>0</td>\n",
       "      <td>NaN</td>\n",
       "      <td>NaN</td>\n",
       "      <td>NaN</td>\n",
       "      <td>0</td>\n",
       "      <td>12</td>\n",
       "      <td>2008</td>\n",
       "      <td>WD</td>\n",
       "      <td>Normal</td>\n",
       "      <td>250000</td>\n",
       "    </tr>\n",
       "  </tbody>\n",
       "</table>\n",
       "<p>5 rows × 80 columns</p>\n",
       "</div>"
      ],
      "text/plain": [
       "    MSSubClass MSZoning  LotFrontage  LotArea Street Alley LotShape  \\\n",
       "Id                                                                    \n",
       "1           60       RL         65.0     8450   Pave   NaN      Reg   \n",
       "2           20       RL         80.0     9600   Pave   NaN      Reg   \n",
       "3           60       RL         68.0    11250   Pave   NaN      IR1   \n",
       "4           70       RL         60.0     9550   Pave   NaN      IR1   \n",
       "5           60       RL         84.0    14260   Pave   NaN      IR1   \n",
       "\n",
       "   LandContour Utilities LotConfig  ... PoolArea PoolQC Fence MiscFeature  \\\n",
       "Id                                  ...                                     \n",
       "1          Lvl    AllPub    Inside  ...        0    NaN   NaN         NaN   \n",
       "2          Lvl    AllPub       FR2  ...        0    NaN   NaN         NaN   \n",
       "3          Lvl    AllPub    Inside  ...        0    NaN   NaN         NaN   \n",
       "4          Lvl    AllPub    Corner  ...        0    NaN   NaN         NaN   \n",
       "5          Lvl    AllPub       FR2  ...        0    NaN   NaN         NaN   \n",
       "\n",
       "   MiscVal MoSold  YrSold  SaleType  SaleCondition  SalePrice  \n",
       "Id                                                             \n",
       "1        0      2    2008        WD         Normal     208500  \n",
       "2        0      5    2007        WD         Normal     181500  \n",
       "3        0      9    2008        WD         Normal     223500  \n",
       "4        0      2    2006        WD        Abnorml     140000  \n",
       "5        0     12    2008        WD         Normal     250000  \n",
       "\n",
       "[5 rows x 80 columns]"
      ]
     },
     "execution_count": 3,
     "metadata": {},
     "output_type": "execute_result"
    }
   ],
   "source": [
    "# Display the first five rows of data\n",
    "train_df.head()"
   ]
  },
  {
   "cell_type": "markdown",
   "id": "47df098a",
   "metadata": {},
   "source": [
    "4.Data Processing\n",
    "==="
   ]
  },
  {
   "cell_type": "markdown",
   "id": "f5a19c3e",
   "metadata": {},
   "source": [
    "4.1 Get rid of unnecessary Colum and keep the influencing factors related to price prediction\n",
    "---"
   ]
  },
  {
   "cell_type": "code",
   "execution_count": 4,
   "id": "e43b49a0",
   "metadata": {},
   "outputs": [
    {
     "data": {
      "text/html": [
       "<div>\n",
       "<style scoped>\n",
       "    .dataframe tbody tr th:only-of-type {\n",
       "        vertical-align: middle;\n",
       "    }\n",
       "\n",
       "    .dataframe tbody tr th {\n",
       "        vertical-align: top;\n",
       "    }\n",
       "\n",
       "    .dataframe thead th {\n",
       "        text-align: right;\n",
       "    }\n",
       "</style>\n",
       "<table border=\"1\" class=\"dataframe\">\n",
       "  <thead>\n",
       "    <tr style=\"text-align: right;\">\n",
       "      <th></th>\n",
       "      <th>MSSubClass</th>\n",
       "      <th>MSZoning</th>\n",
       "      <th>LotFrontage</th>\n",
       "      <th>LotShape</th>\n",
       "      <th>LandContour</th>\n",
       "      <th>LotConfig</th>\n",
       "      <th>LandSlope</th>\n",
       "      <th>Neighborhood</th>\n",
       "      <th>Condition1</th>\n",
       "      <th>HouseStyle</th>\n",
       "      <th>...</th>\n",
       "      <th>PavedDrive</th>\n",
       "      <th>WoodDeckSF</th>\n",
       "      <th>OpenPorchSF</th>\n",
       "      <th>EnclosedPorch</th>\n",
       "      <th>3SsnPorch</th>\n",
       "      <th>ScreenPorch</th>\n",
       "      <th>YrSold</th>\n",
       "      <th>SaleType</th>\n",
       "      <th>SaleCondition</th>\n",
       "      <th>SalePrice</th>\n",
       "    </tr>\n",
       "    <tr>\n",
       "      <th>Id</th>\n",
       "      <th></th>\n",
       "      <th></th>\n",
       "      <th></th>\n",
       "      <th></th>\n",
       "      <th></th>\n",
       "      <th></th>\n",
       "      <th></th>\n",
       "      <th></th>\n",
       "      <th></th>\n",
       "      <th></th>\n",
       "      <th></th>\n",
       "      <th></th>\n",
       "      <th></th>\n",
       "      <th></th>\n",
       "      <th></th>\n",
       "      <th></th>\n",
       "      <th></th>\n",
       "      <th></th>\n",
       "      <th></th>\n",
       "      <th></th>\n",
       "      <th></th>\n",
       "    </tr>\n",
       "  </thead>\n",
       "  <tbody>\n",
       "    <tr>\n",
       "      <th>1</th>\n",
       "      <td>60</td>\n",
       "      <td>RL</td>\n",
       "      <td>65.0</td>\n",
       "      <td>Reg</td>\n",
       "      <td>Lvl</td>\n",
       "      <td>Inside</td>\n",
       "      <td>Gtl</td>\n",
       "      <td>CollgCr</td>\n",
       "      <td>Norm</td>\n",
       "      <td>2Story</td>\n",
       "      <td>...</td>\n",
       "      <td>Y</td>\n",
       "      <td>0</td>\n",
       "      <td>61</td>\n",
       "      <td>0</td>\n",
       "      <td>0</td>\n",
       "      <td>0</td>\n",
       "      <td>2008</td>\n",
       "      <td>WD</td>\n",
       "      <td>Normal</td>\n",
       "      <td>208500</td>\n",
       "    </tr>\n",
       "    <tr>\n",
       "      <th>2</th>\n",
       "      <td>20</td>\n",
       "      <td>RL</td>\n",
       "      <td>80.0</td>\n",
       "      <td>Reg</td>\n",
       "      <td>Lvl</td>\n",
       "      <td>FR2</td>\n",
       "      <td>Gtl</td>\n",
       "      <td>Veenker</td>\n",
       "      <td>Feedr</td>\n",
       "      <td>1Story</td>\n",
       "      <td>...</td>\n",
       "      <td>Y</td>\n",
       "      <td>298</td>\n",
       "      <td>0</td>\n",
       "      <td>0</td>\n",
       "      <td>0</td>\n",
       "      <td>0</td>\n",
       "      <td>2007</td>\n",
       "      <td>WD</td>\n",
       "      <td>Normal</td>\n",
       "      <td>181500</td>\n",
       "    </tr>\n",
       "    <tr>\n",
       "      <th>3</th>\n",
       "      <td>60</td>\n",
       "      <td>RL</td>\n",
       "      <td>68.0</td>\n",
       "      <td>IR1</td>\n",
       "      <td>Lvl</td>\n",
       "      <td>Inside</td>\n",
       "      <td>Gtl</td>\n",
       "      <td>CollgCr</td>\n",
       "      <td>Norm</td>\n",
       "      <td>2Story</td>\n",
       "      <td>...</td>\n",
       "      <td>Y</td>\n",
       "      <td>0</td>\n",
       "      <td>42</td>\n",
       "      <td>0</td>\n",
       "      <td>0</td>\n",
       "      <td>0</td>\n",
       "      <td>2008</td>\n",
       "      <td>WD</td>\n",
       "      <td>Normal</td>\n",
       "      <td>223500</td>\n",
       "    </tr>\n",
       "    <tr>\n",
       "      <th>4</th>\n",
       "      <td>70</td>\n",
       "      <td>RL</td>\n",
       "      <td>60.0</td>\n",
       "      <td>IR1</td>\n",
       "      <td>Lvl</td>\n",
       "      <td>Corner</td>\n",
       "      <td>Gtl</td>\n",
       "      <td>Crawfor</td>\n",
       "      <td>Norm</td>\n",
       "      <td>2Story</td>\n",
       "      <td>...</td>\n",
       "      <td>Y</td>\n",
       "      <td>0</td>\n",
       "      <td>35</td>\n",
       "      <td>272</td>\n",
       "      <td>0</td>\n",
       "      <td>0</td>\n",
       "      <td>2006</td>\n",
       "      <td>WD</td>\n",
       "      <td>Abnorml</td>\n",
       "      <td>140000</td>\n",
       "    </tr>\n",
       "    <tr>\n",
       "      <th>5</th>\n",
       "      <td>60</td>\n",
       "      <td>RL</td>\n",
       "      <td>84.0</td>\n",
       "      <td>IR1</td>\n",
       "      <td>Lvl</td>\n",
       "      <td>FR2</td>\n",
       "      <td>Gtl</td>\n",
       "      <td>NoRidge</td>\n",
       "      <td>Norm</td>\n",
       "      <td>2Story</td>\n",
       "      <td>...</td>\n",
       "      <td>Y</td>\n",
       "      <td>192</td>\n",
       "      <td>84</td>\n",
       "      <td>0</td>\n",
       "      <td>0</td>\n",
       "      <td>0</td>\n",
       "      <td>2008</td>\n",
       "      <td>WD</td>\n",
       "      <td>Normal</td>\n",
       "      <td>250000</td>\n",
       "    </tr>\n",
       "  </tbody>\n",
       "</table>\n",
       "<p>5 rows × 49 columns</p>\n",
       "</div>"
      ],
      "text/plain": [
       "    MSSubClass MSZoning  LotFrontage LotShape LandContour LotConfig LandSlope  \\\n",
       "Id                                                                              \n",
       "1           60       RL         65.0      Reg         Lvl    Inside       Gtl   \n",
       "2           20       RL         80.0      Reg         Lvl       FR2       Gtl   \n",
       "3           60       RL         68.0      IR1         Lvl    Inside       Gtl   \n",
       "4           70       RL         60.0      IR1         Lvl    Corner       Gtl   \n",
       "5           60       RL         84.0      IR1         Lvl       FR2       Gtl   \n",
       "\n",
       "   Neighborhood Condition1 HouseStyle  ...  PavedDrive  WoodDeckSF  \\\n",
       "Id                                     ...                           \n",
       "1       CollgCr       Norm     2Story  ...           Y           0   \n",
       "2       Veenker      Feedr     1Story  ...           Y         298   \n",
       "3       CollgCr       Norm     2Story  ...           Y           0   \n",
       "4       Crawfor       Norm     2Story  ...           Y           0   \n",
       "5       NoRidge       Norm     2Story  ...           Y         192   \n",
       "\n",
       "    OpenPorchSF  EnclosedPorch 3SsnPorch ScreenPorch  YrSold SaleType  \\\n",
       "Id                                                                      \n",
       "1            61              0         0           0    2008       WD   \n",
       "2             0              0         0           0    2007       WD   \n",
       "3            42              0         0           0    2008       WD   \n",
       "4            35            272         0           0    2006       WD   \n",
       "5            84              0         0           0    2008       WD   \n",
       "\n",
       "   SaleCondition SalePrice  \n",
       "Id                          \n",
       "1         Normal    208500  \n",
       "2         Normal    181500  \n",
       "3         Normal    223500  \n",
       "4        Abnorml    140000  \n",
       "5         Normal    250000  \n",
       "\n",
       "[5 rows x 49 columns]"
      ]
     },
     "execution_count": 4,
     "metadata": {},
     "output_type": "execute_result"
    }
   ],
   "source": [
    "# Remove the influence of some irrelevant data\n",
    "drop_list = ['Alley','MasVnrType','BsmtQual','BsmtCond','BsmtExposure','BsmtFinType1','BsmtFinType2','Electrical','FireplaceQu','GarageType',\n",
    "           'GarageFinish','GarageQual','GarageCond','PoolQC','Fence','MiscFeature','MoSold','MoSold','MiscVal','LotArea','Street','Utilities',\n",
    "           'Condition2','BldgType','RoofStyle','RoofMatl','KitchenAbvGr','PoolArea','LowQualFinSF','BsmtFinSF1','BsmtFinSF2','BsmtUnfSF']\n",
    "train_df=train_df.drop(columns=drop_list)\n",
    "train_df.head()\n"
   ]
  },
  {
   "cell_type": "markdown",
   "id": "6024c237",
   "metadata": {},
   "source": [
    "4.2 Data cleaning and processing based on the results of data observation and analysis\n",
    "---"
   ]
  },
  {
   "cell_type": "markdown",
   "id": "927280a5",
   "metadata": {},
   "source": [
    "<font size=3 >Displaying the distribution of the target data, it can be seen that it conforms to the characteristics of a normal distribution, but the variance of the data is too large.</font>\n",
    "\n",
    "<font size=3 >It is processed by log1p to make its distribution closer to the standard normal distribution, as shown in the right figure.</font>"
   ]
  },
  {
   "cell_type": "code",
   "execution_count": 5,
   "id": "83a752f3",
   "metadata": {},
   "outputs": [
    {
     "data": {
      "text/plain": [
       "array([[<Axes: title={'center': 'price'}>,\n",
       "        <Axes: title={'center': 'log(price+1)'}>]], dtype=object)"
      ]
     },
     "execution_count": 5,
     "metadata": {},
     "output_type": "execute_result"
    },
    {
     "data": {
      "image/png": "[encoded data removed]",
      "text/plain": [
       "<Figure size 640x480 with 2 Axes>"
      ]
     },
     "metadata": {},
     "output_type": "display_data"
    }
   ],
   "source": [
    "# Smooth the SalePrice data using log1p\n",
    "prices = pd.DataFrame({\"price\":train_df[\"SalePrice\"],\"log(price+1)\":np.log1p(train_df[\"SalePrice\"])})\n",
    "prices.hist()"
   ]
  },
  {
   "cell_type": "markdown",
   "id": "8c8df199",
   "metadata": {},
   "source": [
    "<font size=3 >Extract target data</font>"
   ]
  },
  {
   "cell_type": "code",
   "execution_count": 6,
   "id": "c5465f5b",
   "metadata": {},
   "outputs": [],
   "source": [
    "# Extract training target data from raw data\n",
    "y_train = np.log1p(train_df.pop('SalePrice'))"
   ]
  },
  {
   "cell_type": "code",
   "execution_count": 7,
   "id": "93976f6e",
   "metadata": {},
   "outputs": [],
   "source": [
    "# Merge the data of train and test for data processing\n",
    "all_df = pd.concat((train_df,test_df),axis=0)"
   ]
  },
  {
   "cell_type": "code",
   "execution_count": 8,
   "id": "3eac914b",
   "metadata": {},
   "outputs": [
    {
     "data": {
      "text/plain": [
       "(2919, 79)"
      ]
     },
     "execution_count": 8,
     "metadata": {},
     "output_type": "execute_result"
    }
   ],
   "source": [
    "# View the shape of the merged data\n",
    "all_df.shape"
   ]
  },
  {
   "cell_type": "code",
   "execution_count": 9,
   "id": "b0396332",
   "metadata": {},
   "outputs": [
    {
     "data": {
      "text/plain": [
       "Id\n",
       "1    12.247699\n",
       "2    12.109016\n",
       "3    12.317171\n",
       "4    11.849405\n",
       "5    12.429220\n",
       "Name: SalePrice, dtype: float64"
      ]
     },
     "execution_count": 9,
     "metadata": {},
     "output_type": "execute_result"
    }
   ],
   "source": [
    "# Display the first five rows of the training data\n",
    "y_train.head()"
   ]
  },
  {
   "cell_type": "markdown",
   "id": "ca120f67",
   "metadata": {},
   "source": [
    "<font size=3 >First, stringify the category data of numeric type, and then uniformly perform one-hot processing on all the string data in the data to facilitate fitting.</font>"
   ]
  },
  {
   "cell_type": "code",
   "execution_count": 10,
   "id": "d76dd496",
   "metadata": {},
   "outputs": [
    {
     "data": {
      "text/plain": [
       "dtype('int64')"
      ]
     },
     "execution_count": 10,
     "metadata": {},
     "output_type": "execute_result"
    }
   ],
   "source": [
    "# Look at the category of the MSSubClass property\n",
    "all_df['MSSubClass'].dtypes"
   ]
  },
  {
   "cell_type": "code",
   "execution_count": 11,
   "id": "a0ded850",
   "metadata": {},
   "outputs": [],
   "source": [
    "# Process the value of the MSSubClass attribute as a string\n",
    "all_df['MSSubClass']= all_df['MSSubClass'].astype(str)"
   ]
  },
  {
   "cell_type": "code",
   "execution_count": 12,
   "id": "8145f69b",
   "metadata": {},
   "outputs": [
    {
     "data": {
      "text/html": [
       "<div>\n",
       "<style scoped>\n",
       "    .dataframe tbody tr th:only-of-type {\n",
       "        vertical-align: middle;\n",
       "    }\n",
       "\n",
       "    .dataframe tbody tr th {\n",
       "        vertical-align: top;\n",
       "    }\n",
       "\n",
       "    .dataframe thead th {\n",
       "        text-align: right;\n",
       "    }\n",
       "</style>\n",
       "<table border=\"1\" class=\"dataframe\">\n",
       "  <thead>\n",
       "    <tr style=\"text-align: right;\">\n",
       "      <th></th>\n",
       "      <th>LotFrontage</th>\n",
       "      <th>OverallQual</th>\n",
       "      <th>OverallCond</th>\n",
       "      <th>YearBuilt</th>\n",
       "      <th>YearRemodAdd</th>\n",
       "      <th>MasVnrArea</th>\n",
       "      <th>TotalBsmtSF</th>\n",
       "      <th>1stFlrSF</th>\n",
       "      <th>2ndFlrSF</th>\n",
       "      <th>GrLivArea</th>\n",
       "      <th>...</th>\n",
       "      <th>GarageCond_TA</th>\n",
       "      <th>PoolQC_Ex</th>\n",
       "      <th>PoolQC_Gd</th>\n",
       "      <th>Fence_GdPrv</th>\n",
       "      <th>Fence_GdWo</th>\n",
       "      <th>Fence_MnPrv</th>\n",
       "      <th>Fence_MnWw</th>\n",
       "      <th>MiscFeature_Gar2</th>\n",
       "      <th>MiscFeature_Othr</th>\n",
       "      <th>MiscFeature_Shed</th>\n",
       "    </tr>\n",
       "    <tr>\n",
       "      <th>Id</th>\n",
       "      <th></th>\n",
       "      <th></th>\n",
       "      <th></th>\n",
       "      <th></th>\n",
       "      <th></th>\n",
       "      <th></th>\n",
       "      <th></th>\n",
       "      <th></th>\n",
       "      <th></th>\n",
       "      <th></th>\n",
       "      <th></th>\n",
       "      <th></th>\n",
       "      <th></th>\n",
       "      <th></th>\n",
       "      <th></th>\n",
       "      <th></th>\n",
       "      <th></th>\n",
       "      <th></th>\n",
       "      <th></th>\n",
       "      <th></th>\n",
       "      <th></th>\n",
       "    </tr>\n",
       "  </thead>\n",
       "  <tbody>\n",
       "    <tr>\n",
       "      <th>1</th>\n",
       "      <td>65.0</td>\n",
       "      <td>7</td>\n",
       "      <td>5</td>\n",
       "      <td>2003</td>\n",
       "      <td>2003</td>\n",
       "      <td>196.0</td>\n",
       "      <td>856.0</td>\n",
       "      <td>856</td>\n",
       "      <td>854</td>\n",
       "      <td>1710</td>\n",
       "      <td>...</td>\n",
       "      <td>0</td>\n",
       "      <td>0</td>\n",
       "      <td>0</td>\n",
       "      <td>0</td>\n",
       "      <td>0</td>\n",
       "      <td>0</td>\n",
       "      <td>0</td>\n",
       "      <td>0</td>\n",
       "      <td>0</td>\n",
       "      <td>0</td>\n",
       "    </tr>\n",
       "    <tr>\n",
       "      <th>2</th>\n",
       "      <td>80.0</td>\n",
       "      <td>6</td>\n",
       "      <td>8</td>\n",
       "      <td>1976</td>\n",
       "      <td>1976</td>\n",
       "      <td>0.0</td>\n",
       "      <td>1262.0</td>\n",
       "      <td>1262</td>\n",
       "      <td>0</td>\n",
       "      <td>1262</td>\n",
       "      <td>...</td>\n",
       "      <td>0</td>\n",
       "      <td>0</td>\n",
       "      <td>0</td>\n",
       "      <td>0</td>\n",
       "      <td>0</td>\n",
       "      <td>0</td>\n",
       "      <td>0</td>\n",
       "      <td>0</td>\n",
       "      <td>0</td>\n",
       "      <td>0</td>\n",
       "    </tr>\n",
       "    <tr>\n",
       "      <th>3</th>\n",
       "      <td>68.0</td>\n",
       "      <td>7</td>\n",
       "      <td>5</td>\n",
       "      <td>2001</td>\n",
       "      <td>2002</td>\n",
       "      <td>162.0</td>\n",
       "      <td>920.0</td>\n",
       "      <td>920</td>\n",
       "      <td>866</td>\n",
       "      <td>1786</td>\n",
       "      <td>...</td>\n",
       "      <td>0</td>\n",
       "      <td>0</td>\n",
       "      <td>0</td>\n",
       "      <td>0</td>\n",
       "      <td>0</td>\n",
       "      <td>0</td>\n",
       "      <td>0</td>\n",
       "      <td>0</td>\n",
       "      <td>0</td>\n",
       "      <td>0</td>\n",
       "    </tr>\n",
       "    <tr>\n",
       "      <th>4</th>\n",
       "      <td>60.0</td>\n",
       "      <td>7</td>\n",
       "      <td>5</td>\n",
       "      <td>1915</td>\n",
       "      <td>1970</td>\n",
       "      <td>0.0</td>\n",
       "      <td>756.0</td>\n",
       "      <td>961</td>\n",
       "      <td>756</td>\n",
       "      <td>1717</td>\n",
       "      <td>...</td>\n",
       "      <td>0</td>\n",
       "      <td>0</td>\n",
       "      <td>0</td>\n",
       "      <td>0</td>\n",
       "      <td>0</td>\n",
       "      <td>0</td>\n",
       "      <td>0</td>\n",
       "      <td>0</td>\n",
       "      <td>0</td>\n",
       "      <td>0</td>\n",
       "    </tr>\n",
       "    <tr>\n",
       "      <th>5</th>\n",
       "      <td>84.0</td>\n",
       "      <td>8</td>\n",
       "      <td>5</td>\n",
       "      <td>2000</td>\n",
       "      <td>2000</td>\n",
       "      <td>350.0</td>\n",
       "      <td>1145.0</td>\n",
       "      <td>1145</td>\n",
       "      <td>1053</td>\n",
       "      <td>2198</td>\n",
       "      <td>...</td>\n",
       "      <td>0</td>\n",
       "      <td>0</td>\n",
       "      <td>0</td>\n",
       "      <td>0</td>\n",
       "      <td>0</td>\n",
       "      <td>0</td>\n",
       "      <td>0</td>\n",
       "      <td>0</td>\n",
       "      <td>0</td>\n",
       "      <td>0</td>\n",
       "    </tr>\n",
       "  </tbody>\n",
       "</table>\n",
       "<p>5 rows × 291 columns</p>\n",
       "</div>"
      ],
      "text/plain": [
       "    LotFrontage  OverallQual  OverallCond  YearBuilt  YearRemodAdd  \\\n",
       "Id                                                                   \n",
       "1          65.0            7            5       2003          2003   \n",
       "2          80.0            6            8       1976          1976   \n",
       "3          68.0            7            5       2001          2002   \n",
       "4          60.0            7            5       1915          1970   \n",
       "5          84.0            8            5       2000          2000   \n",
       "\n",
       "    MasVnrArea  TotalBsmtSF  1stFlrSF  2ndFlrSF  GrLivArea  ...  \\\n",
       "Id                                                          ...   \n",
       "1        196.0        856.0       856       854       1710  ...   \n",
       "2          0.0       1262.0      1262         0       1262  ...   \n",
       "3        162.0        920.0       920       866       1786  ...   \n",
       "4          0.0        756.0       961       756       1717  ...   \n",
       "5        350.0       1145.0      1145      1053       2198  ...   \n",
       "\n",
       "    GarageCond_TA  PoolQC_Ex  PoolQC_Gd  Fence_GdPrv  Fence_GdWo  Fence_MnPrv  \\\n",
       "Id                                                                              \n",
       "1               0          0          0            0           0            0   \n",
       "2               0          0          0            0           0            0   \n",
       "3               0          0          0            0           0            0   \n",
       "4               0          0          0            0           0            0   \n",
       "5               0          0          0            0           0            0   \n",
       "\n",
       "    Fence_MnWw  MiscFeature_Gar2  MiscFeature_Othr  MiscFeature_Shed  \n",
       "Id                                                                    \n",
       "1            0                 0                 0                 0  \n",
       "2            0                 0                 0                 0  \n",
       "3            0                 0                 0                 0  \n",
       "4            0                 0                 0                 0  \n",
       "5            0                 0                 0                 0  \n",
       "\n",
       "[5 rows x 291 columns]"
      ]
     },
     "execution_count": 12,
     "metadata": {},
     "output_type": "execute_result"
    }
   ],
   "source": [
    "# Process all values whose attributes are strings into one-hot form\n",
    "all_dummy_df = pd.get_dummies(all_df)\n",
    "all_dummy_df.head()"
   ]
  },
  {
   "cell_type": "markdown",
   "id": "9653a0b6",
   "metadata": {},
   "source": [
    "<font size=3 >Handle defaults：Supplement with the average value of the column where the default value is located.</font>"
   ]
  },
  {
   "cell_type": "code",
   "execution_count": 13,
   "id": "36bd10f5",
   "metadata": {},
   "outputs": [
    {
     "data": {
      "text/plain": [
       "BsmtUnfSF       1461\n",
       "BsmtFinSF2      1461\n",
       "BsmtFinSF1      1461\n",
       "LowQualFinSF    1460\n",
       "KitchenAbvGr    1460\n",
       "LotArea         1460\n",
       "PoolArea        1460\n",
       "MiscVal         1460\n",
       "MoSold          1460\n",
       "LotFrontage      486\n",
       "dtype: int64"
      ]
     },
     "execution_count": 13,
     "metadata": {},
     "output_type": "execute_result"
    }
   ],
   "source": [
    "all_dummy_df.isnull().sum().sort_values(ascending=False).head(10)"
   ]
  },
  {
   "cell_type": "code",
   "execution_count": 14,
   "id": "293c51a7",
   "metadata": {},
   "outputs": [
    {
     "data": {
      "text/plain": [
       "LotFrontage       69.305795\n",
       "OverallQual        6.089072\n",
       "OverallCond        5.564577\n",
       "YearBuilt       1971.312778\n",
       "YearRemodAdd    1984.264474\n",
       "MasVnrArea       102.201312\n",
       "TotalBsmtSF     1051.777587\n",
       "1stFlrSF        1159.581706\n",
       "2ndFlrSF         336.483727\n",
       "GrLivArea       1500.759849\n",
       "dtype: float64"
      ]
     },
     "execution_count": 14,
     "metadata": {},
     "output_type": "execute_result"
    }
   ],
   "source": [
    "mean_cols= all_dummy_df.mean()\n",
    "mean_cols.head(10)"
   ]
  },
  {
   "cell_type": "code",
   "execution_count": 15,
   "id": "1b50c055",
   "metadata": {},
   "outputs": [],
   "source": [
    "# Pad default value to average\n",
    "all_dummy_df = all_dummy_df.fillna(mean_cols)"
   ]
  },
  {
   "cell_type": "code",
   "execution_count": 16,
   "id": "dc53266f",
   "metadata": {},
   "outputs": [
    {
     "data": {
      "text/plain": [
       "0"
      ]
     },
     "execution_count": 16,
     "metadata": {},
     "output_type": "execute_result"
    }
   ],
   "source": [
    "# Check if there are any remaining default values\n",
    "all_dummy_df.isnull().sum().sum()"
   ]
  },
  {
   "cell_type": "markdown",
   "id": "00026611",
   "metadata": {},
   "source": [
    "4.3 Data Standardization\n",
    "---"
   ]
  },
  {
   "cell_type": "code",
   "execution_count": 17,
   "id": "07095976",
   "metadata": {},
   "outputs": [
    {
     "data": {
      "text/plain": [
       "Index(['LotFrontage', 'OverallQual', 'OverallCond', 'YearBuilt',\n",
       "       'YearRemodAdd', 'MasVnrArea', 'TotalBsmtSF', '1stFlrSF', '2ndFlrSF',\n",
       "       'GrLivArea', 'BsmtFullBath', 'BsmtHalfBath', 'FullBath', 'HalfBath',\n",
       "       'BedroomAbvGr', 'TotRmsAbvGrd', 'Fireplaces', 'GarageYrBlt',\n",
       "       'GarageCars', 'GarageArea', 'WoodDeckSF', 'OpenPorchSF',\n",
       "       'EnclosedPorch', '3SsnPorch', 'ScreenPorch', 'YrSold', 'LotArea',\n",
       "       'BsmtFinSF1', 'BsmtFinSF2', 'BsmtUnfSF', 'LowQualFinSF', 'KitchenAbvGr',\n",
       "       'PoolArea', 'MiscVal', 'MoSold'],\n",
       "      dtype='object')"
      ]
     },
     "execution_count": 17,
     "metadata": {},
     "output_type": "execute_result"
    }
   ],
   "source": [
    "# Filter out all properties of numeric type\n",
    "numeric_cols = all_df.columns[all_df.dtypes!='object']\n",
    "numeric_cols"
   ]
  },
  {
   "cell_type": "markdown",
   "id": "b80597b2",
   "metadata": {},
   "source": [
    "<font size=3 >Tested the z_score method is the best.</font>"
   ]
  },
  {
   "cell_type": "code",
   "execution_count": 18,
   "id": "494c969c",
   "metadata": {},
   "outputs": [
    {
     "name": "stdout",
     "output_type": "stream",
     "text": [
      "      LotFrontage  OverallQual  OverallCond  YearBuilt  YearRemodAdd  \\\n",
      "Id                                                                     \n",
      "1       -0.202033     0.646073    -0.507197   1.046078      0.896679   \n",
      "2        0.501785    -0.063174     2.187904   0.154737     -0.395536   \n",
      "3       -0.061269     0.646073    -0.507197   0.980053      0.848819   \n",
      "4       -0.436639     0.646073    -0.507197  -1.859033     -0.682695   \n",
      "5        0.689469     1.355319    -0.507197   0.947040      0.753100   \n",
      "...           ...          ...          ...        ...           ...   \n",
      "2915    -2.266564    -1.481667     1.289537  -0.043338     -0.682695   \n",
      "2916    -2.266564    -1.481667    -0.507197  -0.043338     -0.682695   \n",
      "2917     4.255477    -0.772420     1.289537  -0.373465      0.561660   \n",
      "2918    -0.342796    -0.772420    -0.507197   0.682939      0.370221   \n",
      "2919     0.220258     0.646073    -0.507197   0.715952      0.465941   \n",
      "\n",
      "      MasVnrArea  TotalBsmtSF  1stFlrSF  2ndFlrSF  GrLivArea  ...    YrSold  \\\n",
      "Id                                                            ...             \n",
      "1       0.525112    -0.444252 -0.773728  1.207172   0.413476  ...  0.157619   \n",
      "2      -0.572152     0.477029  0.261030 -0.784891  -0.471810  ... -0.602858   \n",
      "3       0.334770    -0.299025 -0.610614  1.235163   0.563659  ...  0.157619   \n",
      "4      -0.572152    -0.671168 -0.506118  0.978574   0.427309  ... -1.363335   \n",
      "5       1.387248     0.211537 -0.037164  1.671364   1.377806  ...  0.157619   \n",
      "...          ...          ...       ...       ...        ...  ...       ...   \n",
      "2915   -0.572152    -1.147693 -1.563815  0.488723  -0.807744  ... -1.363335   \n",
      "2916   -0.572152    -1.147693 -1.563815  0.488723  -0.807744  ... -1.363335   \n",
      "2917   -0.572152     0.390801  0.164181 -0.784891  -0.546901  ... -1.363335   \n",
      "2918   -0.572152    -0.317178 -0.483181 -0.784891  -1.048827  ... -1.363335   \n",
      "2919   -0.045913    -0.126569 -0.416915  1.557066   0.986541  ... -1.363335   \n",
      "\n",
      "       LotArea  BsmtFinSF1    BsmtFinSF2     BsmtUnfSF  LowQualFinSF  \\\n",
      "Id                                                                     \n",
      "1     0.000000    0.000000  5.688975e-17 -3.679449e-16  1.426444e-17   \n",
      "2     0.000000    0.000000  5.688975e-17 -3.679449e-16  1.426444e-17   \n",
      "3     0.000000    0.000000  5.688975e-17 -3.679449e-16  1.426444e-17   \n",
      "4     0.000000    0.000000  5.688975e-17 -3.679449e-16  1.426444e-17   \n",
      "5     0.000000    0.000000  5.688975e-17 -3.679449e-16  1.426444e-17   \n",
      "...        ...         ...           ...           ...           ...   \n",
      "2915 -2.250481   -1.365248 -4.212978e-01 -2.684634e-02 -1.138203e-01   \n",
      "2916 -2.262471   -0.581916 -4.212978e-01 -8.424387e-01 -1.138203e-01   \n",
      "2917  2.906421    2.439510 -4.212978e-01 -1.793963e+00 -1.138203e-01   \n",
      "2918  0.177522   -0.317696 -4.212978e-01  6.701152e-02 -1.138203e-01   \n",
      "2919 -0.054858    0.990966 -4.212978e-01 -1.023682e+00 -1.138203e-01   \n",
      "\n",
      "      KitchenAbvGr  PoolArea   MiscVal        MoSold  \n",
      "Id                                                    \n",
      "1    -1.506805e-15  0.000000  0.000000 -4.615376e-16  \n",
      "2    -1.506805e-15  0.000000  0.000000 -4.615376e-16  \n",
      "3    -1.506805e-15  0.000000  0.000000 -4.615376e-16  \n",
      "4    -1.506805e-15  0.000000  0.000000 -4.615376e-16  \n",
      "5    -1.506805e-15  0.000000  0.000000 -4.615376e-16  \n",
      "...            ...       ...       ...           ...  \n",
      "2915 -2.883721e-01 -0.080931 -0.130452 -5.413712e-02  \n",
      "2916 -2.883721e-01 -0.080931 -0.130452 -1.093427e+00  \n",
      "2917 -2.883721e-01 -0.080931 -0.130452  1.504798e+00  \n",
      "2918 -2.883721e-01 -0.080931  1.439424  4.655080e-01  \n",
      "2919 -2.883721e-01 -0.080931 -0.130452  2.544089e+00  \n",
      "\n",
      "[2919 rows x 35 columns]\n"
     ]
    }
   ],
   "source": [
    "# Calculate data normalization\n",
    "numeric_col_means = all_dummy_df.loc[:,numeric_cols].mean()\n",
    "numeric_col_max = all_dummy_df.loc[:,numeric_cols].max()\n",
    "numeric_col_min = all_dummy_df.loc[:,numeric_cols].min()\n",
    "numeric_col_std = all_dummy_df.loc[:,numeric_cols].std()\n",
    "numeric_col_sum = all_dummy_df.loc[:,numeric_cols].sum()\n",
    "\n",
    "norm = 'z_score'\n",
    "if norm == 'z_score':\n",
    "    # Z_Score\n",
    "    all_dummy_df.loc[:,numeric_cols] = (all_dummy_df.loc[:,numeric_cols] - numeric_col_means)/numeric_col_std\n",
    "elif norm == 'min_max':\n",
    "    # Min_Max\n",
    "    all_dummy_df.loc[:,numeric_cols] = (all_dummy_df.loc[:,numeric_cols] - numeric_col_min)/(numeric_col_max-numeric_col_min)\n",
    "elif norm == 'DecimalScaling':\n",
    "    # DecimalScaling\n",
    "    p = numeric_col_max//10 if numeric_col_max % 10 == 0 else numeric_col_max // 10 + 1\n",
    "    #all_dummy_df.loc[:,numeric_cols] = all_dummy_df.loc[:,numeric_cols]/(math.pow(10,p))\n",
    "elif norm == 'Mean':\n",
    "    # Mean\n",
    "    all_dummy_df.loc[:,numeric_cols] = (all_dummy_df.loc[:,numeric_cols] - numeric_col_means) / (numeric_col_max - numeric_col_min)\n",
    "elif norm == 'Vector':\n",
    "    # Vector\n",
    "    all_dummy_df.loc[:,numeric_cols] = all_dummy_df.loc[:,numeric_cols] / numeric_col_sum\n",
    "elif norm == 'lg':\n",
    "    # lg\n",
    "    all_dummy_df.loc[:,numeric_cols] = all_dummy_df.loc[:,numeric_cols].apply(np.log)/ numeric_col_max.apply(np.log)\n",
    "elif norm == 'SoftMax':\n",
    "    # SoftMax\n",
    "    all_dummy_df.loc[:,numeric_cols] = all_dummy_df.loc[:,numeric_cols].apply(np.exp) / all_dummy_df.loc[:,numeric_cols].apply(np.exp).sum()\n",
    "elif norm == 'Sigmoid':\n",
    "    # Sigmoid\n",
    "    all_dummy_df.loc[:,numeric_cols] = 1 / (1 + (0-all_dummy_df.loc[:,numeric_cols]).apply(np.exp))\n",
    "                                        \n",
    "print(all_dummy_df.loc[:,numeric_cols])"
   ]
  },
  {
   "cell_type": "code",
   "execution_count": 19,
   "id": "f328b65f",
   "metadata": {},
   "outputs": [],
   "source": [
    "# After the data processing is completed, the data is re-divided into train and test parts\n",
    "dummy_train_df = all_dummy_df.loc[train_df.index]\n",
    "dummy_test_df = all_dummy_df.loc[test_df.index]"
   ]
  },
  {
   "cell_type": "code",
   "execution_count": 20,
   "id": "a4de75e1",
   "metadata": {},
   "outputs": [
    {
     "data": {
      "text/plain": [
       "((1460, 291), (1459, 291))"
      ]
     },
     "execution_count": 20,
     "metadata": {},
     "output_type": "execute_result"
    }
   ],
   "source": [
    "dummy_train_df.shape,dummy_test_df.shape"
   ]
  },
  {
   "cell_type": "markdown",
   "id": "63d24d08",
   "metadata": {},
   "source": [
    "5.Model linear fit\n",
    "---\n"
   ]
  },
  {
   "cell_type": "markdown",
   "id": "96f31ad1",
   "metadata": {},
   "source": [
    "\n",
    "<font size=3 >First, I compared the Ridge, Random Forest, and Lasso models as target models and fitted the processed data separately.</font>\n",
    "\n",
    "<font size=3 >Within the three models, I iterated through the corresponding hyperparameters to adjust the model parameters for the best results. During the iteration process, I chose cross-validation as a method to evaluate the model's scores and error rates. By plotting the curves of hyperparameters and cross-validation scores, it can be observed that the model fitting results can be locally optimized to the best.</font>"
   ]
  },
  {
   "cell_type": "markdown",
   "id": "f42818bb",
   "metadata": {},
   "source": [
    "<font size=3 >Ridge Regression</font>"
   ]
  },
  {
   "cell_type": "code",
   "execution_count": 21,
   "id": "b06f251c",
   "metadata": {},
   "outputs": [],
   "source": [
    "from sklearn.linear_model import Ridge\n",
    "from sklearn.model_selection import cross_val_score"
   ]
  },
  {
   "cell_type": "code",
   "execution_count": 22,
   "id": "4dbf9e30",
   "metadata": {},
   "outputs": [],
   "source": [
    "# Extract the input of the model\n",
    "X_train = dummy_train_df.values\n",
    "X_test = dummy_test_df.values"
   ]
  },
  {
   "cell_type": "code",
   "execution_count": 23,
   "id": "e320374e",
   "metadata": {},
   "outputs": [
    {
     "name": "stdout",
     "output_type": "stream",
     "text": [
      "0.1345920889240159 15.264179671752334\n"
     ]
    }
   ],
   "source": [
    "# Use the cross validation method that comes with Sklearn to test the model\n",
    "alphas = np.logspace(-3,2,50)\n",
    "test_scores = []\n",
    "error_min = 1\n",
    "best_alpha = 0\n",
    "\n",
    "for alpha in alphas:\n",
    "    clf = Ridge(alpha)\n",
    "    #print(alpha)\n",
    "    test_score = np.mean(np.sqrt(-cross_val_score(clf,X_train,y_train,cv=10,scoring='neg_mean_squared_error')))\n",
    "    #print(test_score)\n",
    "    test_scores.append(test_score)\n",
    "    if test_score < error_min:\n",
    "        error_min = test_score\n",
    "        best_alpha = alpha\n",
    "print(error_min,best_alpha)"
   ]
  },
  {
   "cell_type": "code",
   "execution_count": 24,
   "id": "1a507a83",
   "metadata": {},
   "outputs": [
    {
     "data": {
      "image/png": "[encoded data removed]",
      "text/plain": [
       "<Figure size 640x480 with 1 Axes>"
      ]
     },
     "metadata": {},
     "output_type": "display_data"
    }
   ],
   "source": [
    "# The visualized results show the error curves under different hyperparameters\n",
    "plt.plot(alphas,test_scores)\n",
    "plt.title(\"Alpha vs CV Error\");"
   ]
  },
  {
   "cell_type": "markdown",
   "id": "ac54e1d1",
   "metadata": {},
   "source": [
    "<font size=3 >Random Forest</font>"
   ]
  },
  {
   "cell_type": "code",
   "execution_count": 25,
   "id": "5200c080",
   "metadata": {},
   "outputs": [],
   "source": [
    "from sklearn.ensemble import RandomForestRegressor"
   ]
  },
  {
   "cell_type": "code",
   "execution_count": 30,
   "id": "685b1997",
   "metadata": {},
   "outputs": [
    {
     "name": "stdout",
     "output_type": "stream",
     "text": [
      "0.13920400187878723 0.40000000000000013\n"
     ]
    }
   ],
   "source": [
    "# Use the cross validation method that comes with Sklearn to test the model\n",
    "max_features = np.arange(0.1,0.99,0.05)\n",
    "test_scores = []\n",
    "error_min = 1\n",
    "best_feat = 0\n",
    "\n",
    "for max_feat in max_features:\n",
    "    clf = RandomForestRegressor(n_estimators=200, max_features=max_feat)\n",
    "    test_score = np.mean(np.sqrt(-cross_val_score(clf,X_train,y_train,cv=5,scoring='neg_mean_squared_error')))\n",
    "    test_scores.append(test_score)\n",
    "    #test_score\n",
    "    if test_score < error_min:\n",
    "        error_min = test_score\n",
    "        best_feat = max_feat\n",
    "print(error_min,best_feat)"
   ]
  },
  {
   "cell_type": "code",
   "execution_count": 31,
   "id": "c9a90213",
   "metadata": {},
   "outputs": [
    {
     "data": {
      "image/png": "[encoded data removed]",
      "text/plain": [
       "<Figure size 640x480 with 1 Axes>"
      ]
     },
     "metadata": {},
     "output_type": "display_data"
    }
   ],
   "source": [
    "# The visualized results show the error curves under different hyperparameters\n",
    "plt.plot(max_features,test_scores)\n",
    "plt.title(\"Max Features vs CV Error\");"
   ]
  },
  {
   "cell_type": "markdown",
   "id": "4c7cfb0e",
   "metadata": {},
   "source": [
    "<font size=3 >Lasso</font>"
   ]
  },
  {
   "cell_type": "code",
   "execution_count": 32,
   "id": "3caae05e",
   "metadata": {},
   "outputs": [
    {
     "name": "stderr",
     "output_type": "stream",
     "text": [
      "C:\\Users\\KK\\anaconda3\\lib\\site-packages\\sklearn\\linear_model\\_coordinate_descent.py:631: ConvergenceWarning: Objective did not converge. You might want to increase the number of iterations, check the scale of the features or consider increasing regularisation. Duality gap: 9.384e-01, tolerance: 2.119e-02\n",
      "  model = cd_fast.enet_coordinate_descent(\n",
      "C:\\Users\\KK\\anaconda3\\lib\\site-packages\\sklearn\\linear_model\\_coordinate_descent.py:631: ConvergenceWarning: Objective did not converge. You might want to increase the number of iterations, check the scale of the features or consider increasing regularisation. Duality gap: 1.466e+00, tolerance: 2.065e-02\n",
      "  model = cd_fast.enet_coordinate_descent(\n",
      "C:\\Users\\KK\\anaconda3\\lib\\site-packages\\sklearn\\linear_model\\_coordinate_descent.py:631: ConvergenceWarning: Objective did not converge. You might want to increase the number of iterations, check the scale of the features or consider increasing regularisation. Duality gap: 9.618e-01, tolerance: 2.063e-02\n",
      "  model = cd_fast.enet_coordinate_descent(\n",
      "C:\\Users\\KK\\anaconda3\\lib\\site-packages\\sklearn\\linear_model\\_coordinate_descent.py:631: ConvergenceWarning: Objective did not converge. You might want to increase the number of iterations, check the scale of the features or consider increasing regularisation. Duality gap: 1.366e+00, tolerance: 2.027e-02\n",
      "  model = cd_fast.enet_coordinate_descent(\n",
      "C:\\Users\\KK\\anaconda3\\lib\\site-packages\\sklearn\\linear_model\\_coordinate_descent.py:631: ConvergenceWarning: Objective did not converge. You might want to increase the number of iterations, check the scale of the features or consider increasing regularisation. Duality gap: 1.027e+00, tolerance: 2.139e-02\n",
      "  model = cd_fast.enet_coordinate_descent(\n",
      "C:\\Users\\KK\\anaconda3\\lib\\site-packages\\sklearn\\linear_model\\_coordinate_descent.py:631: ConvergenceWarning: Objective did not converge. You might want to increase the number of iterations, check the scale of the features or consider increasing regularisation. Duality gap: 2.120e+00, tolerance: 2.106e-02\n",
      "  model = cd_fast.enet_coordinate_descent(\n",
      "C:\\Users\\KK\\anaconda3\\lib\\site-packages\\sklearn\\linear_model\\_coordinate_descent.py:631: ConvergenceWarning: Objective did not converge. You might want to increase the number of iterations, check the scale of the features or consider increasing regularisation. Duality gap: 9.403e-01, tolerance: 2.123e-02\n",
      "  model = cd_fast.enet_coordinate_descent(\n",
      "C:\\Users\\KK\\anaconda3\\lib\\site-packages\\sklearn\\linear_model\\_coordinate_descent.py:631: ConvergenceWarning: Objective did not converge. You might want to increase the number of iterations, check the scale of the features or consider increasing regularisation. Duality gap: 1.018e+00, tolerance: 2.118e-02\n",
      "  model = cd_fast.enet_coordinate_descent(\n",
      "C:\\Users\\KK\\anaconda3\\lib\\site-packages\\sklearn\\linear_model\\_coordinate_descent.py:631: ConvergenceWarning: Objective did not converge. You might want to increase the number of iterations, check the scale of the features or consider increasing regularisation. Duality gap: 9.415e-01, tolerance: 2.091e-02\n",
      "  model = cd_fast.enet_coordinate_descent(\n",
      "C:\\Users\\KK\\anaconda3\\lib\\site-packages\\sklearn\\linear_model\\_coordinate_descent.py:631: ConvergenceWarning: Objective did not converge. You might want to increase the number of iterations, check the scale of the features or consider increasing regularisation. Duality gap: 4.121e-01, tolerance: 2.119e-02\n",
      "  model = cd_fast.enet_coordinate_descent(\n",
      "C:\\Users\\KK\\anaconda3\\lib\\site-packages\\sklearn\\linear_model\\_coordinate_descent.py:631: ConvergenceWarning: Objective did not converge. You might want to increase the number of iterations, check the scale of the features or consider increasing regularisation. Duality gap: 9.200e-01, tolerance: 2.065e-02\n",
      "  model = cd_fast.enet_coordinate_descent(\n",
      "C:\\Users\\KK\\anaconda3\\lib\\site-packages\\sklearn\\linear_model\\_coordinate_descent.py:631: ConvergenceWarning: Objective did not converge. You might want to increase the number of iterations, check the scale of the features or consider increasing regularisation. Duality gap: 6.480e-01, tolerance: 2.063e-02\n",
      "  model = cd_fast.enet_coordinate_descent(\n",
      "C:\\Users\\KK\\anaconda3\\lib\\site-packages\\sklearn\\linear_model\\_coordinate_descent.py:631: ConvergenceWarning: Objective did not converge. You might want to increase the number of iterations, check the scale of the features or consider increasing regularisation. Duality gap: 9.506e-01, tolerance: 2.027e-02\n",
      "  model = cd_fast.enet_coordinate_descent(\n",
      "C:\\Users\\KK\\anaconda3\\lib\\site-packages\\sklearn\\linear_model\\_coordinate_descent.py:631: ConvergenceWarning: Objective did not converge. You might want to increase the number of iterations, check the scale of the features or consider increasing regularisation. Duality gap: 6.720e-01, tolerance: 2.139e-02\n",
      "  model = cd_fast.enet_coordinate_descent(\n",
      "C:\\Users\\KK\\anaconda3\\lib\\site-packages\\sklearn\\linear_model\\_coordinate_descent.py:631: ConvergenceWarning: Objective did not converge. You might want to increase the number of iterations, check the scale of the features or consider increasing regularisation. Duality gap: 1.582e+00, tolerance: 2.106e-02\n",
      "  model = cd_fast.enet_coordinate_descent(\n",
      "C:\\Users\\KK\\anaconda3\\lib\\site-packages\\sklearn\\linear_model\\_coordinate_descent.py:631: ConvergenceWarning: Objective did not converge. You might want to increase the number of iterations, check the scale of the features or consider increasing regularisation. Duality gap: 5.487e-01, tolerance: 2.123e-02\n",
      "  model = cd_fast.enet_coordinate_descent(\n",
      "C:\\Users\\KK\\anaconda3\\lib\\site-packages\\sklearn\\linear_model\\_coordinate_descent.py:631: ConvergenceWarning: Objective did not converge. You might want to increase the number of iterations, check the scale of the features or consider increasing regularisation. Duality gap: 6.134e-01, tolerance: 2.118e-02\n",
      "  model = cd_fast.enet_coordinate_descent(\n",
      "C:\\Users\\KK\\anaconda3\\lib\\site-packages\\sklearn\\linear_model\\_coordinate_descent.py:631: ConvergenceWarning: Objective did not converge. You might want to increase the number of iterations, check the scale of the features or consider increasing regularisation. Duality gap: 5.910e-01, tolerance: 2.091e-02\n",
      "  model = cd_fast.enet_coordinate_descent(\n",
      "C:\\Users\\KK\\anaconda3\\lib\\site-packages\\sklearn\\linear_model\\_coordinate_descent.py:631: ConvergenceWarning: Objective did not converge. You might want to increase the number of iterations, check the scale of the features or consider increasing regularisation. Duality gap: 1.026e-01, tolerance: 2.119e-02\n",
      "  model = cd_fast.enet_coordinate_descent(\n",
      "C:\\Users\\KK\\anaconda3\\lib\\site-packages\\sklearn\\linear_model\\_coordinate_descent.py:631: ConvergenceWarning: Objective did not converge. You might want to increase the number of iterations, check the scale of the features or consider increasing regularisation. Duality gap: 5.038e-01, tolerance: 2.065e-02\n",
      "  model = cd_fast.enet_coordinate_descent(\n",
      "C:\\Users\\KK\\anaconda3\\lib\\site-packages\\sklearn\\linear_model\\_coordinate_descent.py:631: ConvergenceWarning: Objective did not converge. You might want to increase the number of iterations, check the scale of the features or consider increasing regularisation. Duality gap: 4.033e-01, tolerance: 2.063e-02\n",
      "  model = cd_fast.enet_coordinate_descent(\n",
      "C:\\Users\\KK\\anaconda3\\lib\\site-packages\\sklearn\\linear_model\\_coordinate_descent.py:631: ConvergenceWarning: Objective did not converge. You might want to increase the number of iterations, check the scale of the features or consider increasing regularisation. Duality gap: 6.305e-01, tolerance: 2.027e-02\n",
      "  model = cd_fast.enet_coordinate_descent(\n",
      "C:\\Users\\KK\\anaconda3\\lib\\site-packages\\sklearn\\linear_model\\_coordinate_descent.py:631: ConvergenceWarning: Objective did not converge. You might want to increase the number of iterations, check the scale of the features or consider increasing regularisation. Duality gap: 3.839e-01, tolerance: 2.139e-02\n",
      "  model = cd_fast.enet_coordinate_descent(\n",
      "C:\\Users\\KK\\anaconda3\\lib\\site-packages\\sklearn\\linear_model\\_coordinate_descent.py:631: ConvergenceWarning: Objective did not converge. You might want to increase the number of iterations, check the scale of the features or consider increasing regularisation. Duality gap: 1.127e+00, tolerance: 2.106e-02\n",
      "  model = cd_fast.enet_coordinate_descent(\n",
      "C:\\Users\\KK\\anaconda3\\lib\\site-packages\\sklearn\\linear_model\\_coordinate_descent.py:631: ConvergenceWarning: Objective did not converge. You might want to increase the number of iterations, check the scale of the features or consider increasing regularisation. Duality gap: 2.841e-01, tolerance: 2.123e-02\n",
      "  model = cd_fast.enet_coordinate_descent(\n"
     ]
    },
    {
     "name": "stderr",
     "output_type": "stream",
     "text": [
      "C:\\Users\\KK\\anaconda3\\lib\\site-packages\\sklearn\\linear_model\\_coordinate_descent.py:631: ConvergenceWarning: Objective did not converge. You might want to increase the number of iterations, check the scale of the features or consider increasing regularisation. Duality gap: 3.163e-01, tolerance: 2.118e-02\n",
      "  model = cd_fast.enet_coordinate_descent(\n",
      "C:\\Users\\KK\\anaconda3\\lib\\site-packages\\sklearn\\linear_model\\_coordinate_descent.py:631: ConvergenceWarning: Objective did not converge. You might want to increase the number of iterations, check the scale of the features or consider increasing regularisation. Duality gap: 3.454e-01, tolerance: 2.091e-02\n",
      "  model = cd_fast.enet_coordinate_descent(\n",
      "C:\\Users\\KK\\anaconda3\\lib\\site-packages\\sklearn\\linear_model\\_coordinate_descent.py:631: ConvergenceWarning: Objective did not converge. You might want to increase the number of iterations, check the scale of the features or consider increasing regularisation. Duality gap: 2.085e-01, tolerance: 2.065e-02\n",
      "  model = cd_fast.enet_coordinate_descent(\n",
      "C:\\Users\\KK\\anaconda3\\lib\\site-packages\\sklearn\\linear_model\\_coordinate_descent.py:631: ConvergenceWarning: Objective did not converge. You might want to increase the number of iterations, check the scale of the features or consider increasing regularisation. Duality gap: 2.426e-01, tolerance: 2.063e-02\n",
      "  model = cd_fast.enet_coordinate_descent(\n",
      "C:\\Users\\KK\\anaconda3\\lib\\site-packages\\sklearn\\linear_model\\_coordinate_descent.py:631: ConvergenceWarning: Objective did not converge. You might want to increase the number of iterations, check the scale of the features or consider increasing regularisation. Duality gap: 3.838e-01, tolerance: 2.027e-02\n",
      "  model = cd_fast.enet_coordinate_descent(\n",
      "C:\\Users\\KK\\anaconda3\\lib\\site-packages\\sklearn\\linear_model\\_coordinate_descent.py:631: ConvergenceWarning: Objective did not converge. You might want to increase the number of iterations, check the scale of the features or consider increasing regularisation. Duality gap: 1.846e-01, tolerance: 2.139e-02\n",
      "  model = cd_fast.enet_coordinate_descent(\n",
      "C:\\Users\\KK\\anaconda3\\lib\\site-packages\\sklearn\\linear_model\\_coordinate_descent.py:631: ConvergenceWarning: Objective did not converge. You might want to increase the number of iterations, check the scale of the features or consider increasing regularisation. Duality gap: 7.575e-01, tolerance: 2.106e-02\n",
      "  model = cd_fast.enet_coordinate_descent(\n",
      "C:\\Users\\KK\\anaconda3\\lib\\site-packages\\sklearn\\linear_model\\_coordinate_descent.py:631: ConvergenceWarning: Objective did not converge. You might want to increase the number of iterations, check the scale of the features or consider increasing regularisation. Duality gap: 1.132e-01, tolerance: 2.123e-02\n",
      "  model = cd_fast.enet_coordinate_descent(\n",
      "C:\\Users\\KK\\anaconda3\\lib\\site-packages\\sklearn\\linear_model\\_coordinate_descent.py:631: ConvergenceWarning: Objective did not converge. You might want to increase the number of iterations, check the scale of the features or consider increasing regularisation. Duality gap: 1.038e-01, tolerance: 2.118e-02\n",
      "  model = cd_fast.enet_coordinate_descent(\n",
      "C:\\Users\\KK\\anaconda3\\lib\\site-packages\\sklearn\\linear_model\\_coordinate_descent.py:631: ConvergenceWarning: Objective did not converge. You might want to increase the number of iterations, check the scale of the features or consider increasing regularisation. Duality gap: 1.719e-01, tolerance: 2.091e-02\n",
      "  model = cd_fast.enet_coordinate_descent(\n",
      "C:\\Users\\KK\\anaconda3\\lib\\site-packages\\sklearn\\linear_model\\_coordinate_descent.py:631: ConvergenceWarning: Objective did not converge. You might want to increase the number of iterations, check the scale of the features or consider increasing regularisation. Duality gap: 3.824e-02, tolerance: 2.065e-02\n",
      "  model = cd_fast.enet_coordinate_descent(\n",
      "C:\\Users\\KK\\anaconda3\\lib\\site-packages\\sklearn\\linear_model\\_coordinate_descent.py:631: ConvergenceWarning: Objective did not converge. You might want to increase the number of iterations, check the scale of the features or consider increasing regularisation. Duality gap: 1.359e-01, tolerance: 2.063e-02\n",
      "  model = cd_fast.enet_coordinate_descent(\n",
      "C:\\Users\\KK\\anaconda3\\lib\\site-packages\\sklearn\\linear_model\\_coordinate_descent.py:631: ConvergenceWarning: Objective did not converge. You might want to increase the number of iterations, check the scale of the features or consider increasing regularisation. Duality gap: 2.122e-01, tolerance: 2.027e-02\n",
      "  model = cd_fast.enet_coordinate_descent(\n",
      "C:\\Users\\KK\\anaconda3\\lib\\site-packages\\sklearn\\linear_model\\_coordinate_descent.py:631: ConvergenceWarning: Objective did not converge. You might want to increase the number of iterations, check the scale of the features or consider increasing regularisation. Duality gap: 6.722e-02, tolerance: 2.139e-02\n",
      "  model = cd_fast.enet_coordinate_descent(\n",
      "C:\\Users\\KK\\anaconda3\\lib\\site-packages\\sklearn\\linear_model\\_coordinate_descent.py:631: ConvergenceWarning: Objective did not converge. You might want to increase the number of iterations, check the scale of the features or consider increasing regularisation. Duality gap: 4.714e-01, tolerance: 2.106e-02\n",
      "  model = cd_fast.enet_coordinate_descent(\n",
      "C:\\Users\\KK\\anaconda3\\lib\\site-packages\\sklearn\\linear_model\\_coordinate_descent.py:631: ConvergenceWarning: Objective did not converge. You might want to increase the number of iterations, check the scale of the features or consider increasing regularisation. Duality gap: 4.842e-02, tolerance: 2.091e-02\n",
      "  model = cd_fast.enet_coordinate_descent(\n",
      "C:\\Users\\KK\\anaconda3\\lib\\site-packages\\sklearn\\linear_model\\_coordinate_descent.py:631: ConvergenceWarning: Objective did not converge. You might want to increase the number of iterations, check the scale of the features or consider increasing regularisation. Duality gap: 6.685e-02, tolerance: 2.063e-02\n",
      "  model = cd_fast.enet_coordinate_descent(\n",
      "C:\\Users\\KK\\anaconda3\\lib\\site-packages\\sklearn\\linear_model\\_coordinate_descent.py:631: ConvergenceWarning: Objective did not converge. You might want to increase the number of iterations, check the scale of the features or consider increasing regularisation. Duality gap: 9.792e-02, tolerance: 2.027e-02\n",
      "  model = cd_fast.enet_coordinate_descent(\n",
      "C:\\Users\\KK\\anaconda3\\lib\\site-packages\\sklearn\\linear_model\\_coordinate_descent.py:631: ConvergenceWarning: Objective did not converge. You might want to increase the number of iterations, check the scale of the features or consider increasing regularisation. Duality gap: 2.653e-01, tolerance: 2.106e-02\n",
      "  model = cd_fast.enet_coordinate_descent(\n",
      "C:\\Users\\KK\\anaconda3\\lib\\site-packages\\sklearn\\linear_model\\_coordinate_descent.py:631: ConvergenceWarning: Objective did not converge. You might want to increase the number of iterations, check the scale of the features or consider increasing regularisation. Duality gap: 2.373e-02, tolerance: 2.091e-02\n",
      "  model = cd_fast.enet_coordinate_descent(\n",
      "C:\\Users\\KK\\anaconda3\\lib\\site-packages\\sklearn\\linear_model\\_coordinate_descent.py:631: ConvergenceWarning: Objective did not converge. You might want to increase the number of iterations, check the scale of the features or consider increasing regularisation. Duality gap: 2.776e-02, tolerance: 2.063e-02\n",
      "  model = cd_fast.enet_coordinate_descent(\n",
      "C:\\Users\\KK\\anaconda3\\lib\\site-packages\\sklearn\\linear_model\\_coordinate_descent.py:631: ConvergenceWarning: Objective did not converge. You might want to increase the number of iterations, check the scale of the features or consider increasing regularisation. Duality gap: 3.086e-02, tolerance: 2.027e-02\n",
      "  model = cd_fast.enet_coordinate_descent(\n",
      "C:\\Users\\KK\\anaconda3\\lib\\site-packages\\sklearn\\linear_model\\_coordinate_descent.py:631: ConvergenceWarning: Objective did not converge. You might want to increase the number of iterations, check the scale of the features or consider increasing regularisation. Duality gap: 1.276e-01, tolerance: 2.106e-02\n",
      "  model = cd_fast.enet_coordinate_descent(\n",
      "C:\\Users\\KK\\anaconda3\\lib\\site-packages\\sklearn\\linear_model\\_coordinate_descent.py:631: ConvergenceWarning: Objective did not converge. You might want to increase the number of iterations, check the scale of the features or consider increasing regularisation. Duality gap: 3.132e-02, tolerance: 2.065e-02\n",
      "  model = cd_fast.enet_coordinate_descent(\n"
     ]
    },
    {
     "name": "stderr",
     "output_type": "stream",
     "text": [
      "C:\\Users\\KK\\anaconda3\\lib\\site-packages\\sklearn\\linear_model\\_coordinate_descent.py:631: ConvergenceWarning: Objective did not converge. You might want to increase the number of iterations, check the scale of the features or consider increasing regularisation. Duality gap: 4.345e-02, tolerance: 2.106e-02\n",
      "  model = cd_fast.enet_coordinate_descent(\n",
      "C:\\Users\\KK\\anaconda3\\lib\\site-packages\\sklearn\\linear_model\\_coordinate_descent.py:631: ConvergenceWarning: Objective did not converge. You might want to increase the number of iterations, check the scale of the features or consider increasing regularisation. Duality gap: 3.709e-02, tolerance: 2.118e-02\n",
      "  model = cd_fast.enet_coordinate_descent(\n",
      "C:\\Users\\KK\\anaconda3\\lib\\site-packages\\sklearn\\linear_model\\_coordinate_descent.py:631: ConvergenceWarning: Objective did not converge. You might want to increase the number of iterations, check the scale of the features or consider increasing regularisation. Duality gap: 2.425e-02, tolerance: 2.139e-02\n",
      "  model = cd_fast.enet_coordinate_descent(\n",
      "C:\\Users\\KK\\anaconda3\\lib\\site-packages\\sklearn\\linear_model\\_coordinate_descent.py:631: ConvergenceWarning: Objective did not converge. You might want to increase the number of iterations, check the scale of the features or consider increasing regularisation. Duality gap: 2.471e-02, tolerance: 2.123e-02\n",
      "  model = cd_fast.enet_coordinate_descent(\n"
     ]
    },
    {
     "name": "stdout",
     "output_type": "stream",
     "text": [
      "0.13335545624358575 0\n"
     ]
    }
   ],
   "source": [
    "# Use the cross validation method that comes with Sklearn to test the model\n",
    "from sklearn.linear_model import LinearRegression, Lasso\n",
    "\n",
    "alphas = np.logspace(-5,0,50)\n",
    "test_scores = []\n",
    "error_min = 1\n",
    "best_feat = 0\n",
    "\n",
    "for alpha in alphas:    \n",
    "    clf = Lasso(alpha)\n",
    "    #print(alpha)\n",
    "    test_score = np.mean(np.sqrt(-cross_val_score(clf,X_train,y_train,cv=10,scoring='neg_mean_squared_error')))\n",
    "    #print(test_score)\n",
    "    test_scores.append(test_score)\n",
    "    if test_score < error_min:\n",
    "        error_min = test_score\n",
    "        best_alpha = alpha\n",
    "print(error_min,best_feat)"
   ]
  },
  {
   "cell_type": "code",
   "execution_count": 33,
   "id": "39dff676",
   "metadata": {},
   "outputs": [
    {
     "data": {
      "image/png": "[encoded data removed]",
      "text/plain": [
       "<Figure size 640x480 with 1 Axes>"
      ]
     },
     "metadata": {},
     "output_type": "display_data"
    }
   ],
   "source": [
    "# The visualized results show the error curves under different hyperparameters\n",
    "plt.plot(alphas,test_scores)\n",
    "plt.title(\"Lasso alphas vs CV Error\");"
   ]
  },
  {
   "cell_type": "code",
   "execution_count": 34,
   "id": "2a1f0977",
   "metadata": {},
   "outputs": [],
   "source": [
    "# Use the best parameters of the model to fit the results\n",
    "Lasso = Lasso(alpha=0.1)"
   ]
  },
  {
   "cell_type": "code",
   "execution_count": 35,
   "id": "d8273d82",
   "metadata": {},
   "outputs": [
    {
     "data": {
      "text/html": [
       "<style>#sk-container-id-1 {color: black;background-color: white;}#sk-container-id-1 pre{padding: 0;}#sk-container-id-1 div.sk-toggleable {background-color: white;}#sk-container-id-1 label.sk-toggleable__label {cursor: pointer;display: block;width: 100%;margin-bottom: 0;padding: 0.3em;box-sizing: border-box;text-align: center;}#sk-container-id-1 label.sk-toggleable__label-arrow:before {content: \"▸\";float: left;margin-right: 0.25em;color: #696969;}#sk-container-id-1 label.sk-toggleable__label-arrow:hover:before {color: black;}#sk-container-id-1 div.sk-estimator:hover label.sk-toggleable__label-arrow:before {color: black;}#sk-container-id-1 div.sk-toggleable__content {max-height: 0;max-width: 0;overflow: hidden;text-align: left;background-color: #f0f8ff;}#sk-container-id-1 div.sk-toggleable__content pre {margin: 0.2em;color: black;border-radius: 0.25em;background-color: #f0f8ff;}#sk-container-id-1 input.sk-toggleable__control:checked~div.sk-toggleable__content {max-height: 200px;max-width: 100%;overflow: auto;}#sk-container-id-1 input.sk-toggleable__control:checked~label.sk-toggleable__label-arrow:before {content: \"▾\";}#sk-container-id-1 div.sk-estimator input.sk-toggleable__control:checked~label.sk-toggleable__label {background-color: #d4ebff;}#sk-container-id-1 div.sk-label input.sk-toggleable__control:checked~label.sk-toggleable__label {background-color: #d4ebff;}#sk-container-id-1 input.sk-hidden--visually {border: 0;clip: rect(1px 1px 1px 1px);clip: rect(1px, 1px, 1px, 1px);height: 1px;margin: -1px;overflow: hidden;padding: 0;position: absolute;width: 1px;}#sk-container-id-1 div.sk-estimator {font-family: monospace;background-color: #f0f8ff;border: 1px dotted black;border-radius: 0.25em;box-sizing: border-box;margin-bottom: 0.5em;}#sk-container-id-1 div.sk-estimator:hover {background-color: #d4ebff;}#sk-container-id-1 div.sk-parallel-item::after {content: \"\";width: 100%;border-bottom: 1px solid gray;flex-grow: 1;}#sk-container-id-1 div.sk-label:hover label.sk-toggleable__label {background-color: #d4ebff;}#sk-container-id-1 div.sk-serial::before {content: \"\";position: absolute;border-left: 1px solid gray;box-sizing: border-box;top: 0;bottom: 0;left: 50%;z-index: 0;}#sk-container-id-1 div.sk-serial {display: flex;flex-direction: column;align-items: center;background-color: white;padding-right: 0.2em;padding-left: 0.2em;position: relative;}#sk-container-id-1 div.sk-item {position: relative;z-index: 1;}#sk-container-id-1 div.sk-parallel {display: flex;align-items: stretch;justify-content: center;background-color: white;position: relative;}#sk-container-id-1 div.sk-item::before, #sk-container-id-1 div.sk-parallel-item::before {content: \"\";position: absolute;border-left: 1px solid gray;box-sizing: border-box;top: 0;bottom: 0;left: 50%;z-index: -1;}#sk-container-id-1 div.sk-parallel-item {display: flex;flex-direction: column;z-index: 1;position: relative;background-color: white;}#sk-container-id-1 div.sk-parallel-item:first-child::after {align-self: flex-end;width: 50%;}#sk-container-id-1 div.sk-parallel-item:last-child::after {align-self: flex-start;width: 50%;}#sk-container-id-1 div.sk-parallel-item:only-child::after {width: 0;}#sk-container-id-1 div.sk-dashed-wrapped {border: 1px dashed gray;margin: 0 0.4em 0.5em 0.4em;box-sizing: border-box;padding-bottom: 0.4em;background-color: white;}#sk-container-id-1 div.sk-label label {font-family: monospace;font-weight: bold;display: inline-block;line-height: 1.2em;}#sk-container-id-1 div.sk-label-container {text-align: center;}#sk-container-id-1 div.sk-container {/* jupyter's `normalize.less` sets `[hidden] { display: none; }` but bootstrap.min.css set `[hidden] { display: none !important; }` so we also need the `!important` here to be able to override the default hidden behavior on the sphinx rendered scikit-learn.org. See: https://github.com/scikit-learn/scikit-learn/issues/21755 */display: inline-block !important;position: relative;}#sk-container-id-1 div.sk-text-repr-fallback {display: none;}</style><div id=\"sk-container-id-1\" class=\"sk-top-container\"><div class=\"sk-text-repr-fallback\"><pre>Lasso(alpha=0.1)</pre><b>In a Jupyter environment, please rerun this cell to show the HTML representation or trust the notebook. <br />On GitHub, the HTML representation is unable to render, please try loading this page with nbviewer.org.</b></div><div class=\"sk-container\" hidden><div class=\"sk-item\"><div class=\"sk-estimator sk-toggleable\"><input class=\"sk-toggleable__control sk-hidden--visually\" id=\"sk-estimator-id-1\" type=\"checkbox\" checked><label for=\"sk-estimator-id-1\" class=\"sk-toggleable__label sk-toggleable__label-arrow\">Lasso</label><div class=\"sk-toggleable__content\"><pre>Lasso(alpha=0.1)</pre></div></div></div></div></div>"
      ],
      "text/plain": [
       "Lasso(alpha=0.1)"
      ]
     },
     "execution_count": 35,
     "metadata": {},
     "output_type": "execute_result"
    }
   ],
   "source": [
    "Lasso.fit(X_train,y_train)"
   ]
  },
  {
   "cell_type": "code",
   "execution_count": 36,
   "id": "ae9f49ca",
   "metadata": {},
   "outputs": [],
   "source": [
    "# log1p inverse operation\n",
    "y_Lasso = np.expm1(Lasso.predict(X_test))"
   ]
  },
  {
   "cell_type": "code",
   "execution_count": 37,
   "id": "72b4e1a8",
   "metadata": {},
   "outputs": [],
   "source": [
    "# Save the result as a DataFrame\n",
    "final_df = pd.DataFrame(data={'ID':test_df.index,'SalePrice':y_Lasso})"
   ]
  },
  {
   "cell_type": "code",
   "execution_count": 38,
   "id": "5e49d6ea",
   "metadata": {},
   "outputs": [
    {
     "data": {
      "text/html": [
       "<div>\n",
       "<style scoped>\n",
       "    .dataframe tbody tr th:only-of-type {\n",
       "        vertical-align: middle;\n",
       "    }\n",
       "\n",
       "    .dataframe tbody tr th {\n",
       "        vertical-align: top;\n",
       "    }\n",
       "\n",
       "    .dataframe thead th {\n",
       "        text-align: right;\n",
       "    }\n",
       "</style>\n",
       "<table border=\"1\" class=\"dataframe\">\n",
       "  <thead>\n",
       "    <tr style=\"text-align: right;\">\n",
       "      <th></th>\n",
       "      <th>ID</th>\n",
       "      <th>SalePrice</th>\n",
       "    </tr>\n",
       "  </thead>\n",
       "  <tbody>\n",
       "    <tr>\n",
       "      <th>0</th>\n",
       "      <td>1461</td>\n",
       "      <td>130136.644891</td>\n",
       "    </tr>\n",
       "    <tr>\n",
       "      <th>1</th>\n",
       "      <td>1462</td>\n",
       "      <td>155234.261848</td>\n",
       "    </tr>\n",
       "    <tr>\n",
       "      <th>2</th>\n",
       "      <td>1463</td>\n",
       "      <td>153263.685943</td>\n",
       "    </tr>\n",
       "    <tr>\n",
       "      <th>3</th>\n",
       "      <td>1464</td>\n",
       "      <td>169930.111469</td>\n",
       "    </tr>\n",
       "    <tr>\n",
       "      <th>4</th>\n",
       "      <td>1465</td>\n",
       "      <td>202656.745808</td>\n",
       "    </tr>\n",
       "  </tbody>\n",
       "</table>\n",
       "</div>"
      ],
      "text/plain": [
       "     ID      SalePrice\n",
       "0  1461  130136.644891\n",
       "1  1462  155234.261848\n",
       "2  1463  153263.685943\n",
       "3  1464  169930.111469\n",
       "4  1465  202656.745808"
      ]
     },
     "execution_count": 38,
     "metadata": {},
     "output_type": "execute_result"
    }
   ],
   "source": [
    "final_df.head()"
   ]
  }
 ],
 "metadata": {
  "kernelspec": {
   "display_name": "Python 3 (ipykernel)",
   "language": "python",
   "name": "python3"
  },
  "language_info": {
   "codemirror_mode": {
    "name": "ipython",
    "version": 3
   },
   "file_extension": ".py",
   "mimetype": "text/x-python",
   "name": "python",
   "nbconvert_exporter": "python",
   "pygments_lexer": "ipython3",
   "version": "3.8.16"
  }
 },
 "nbformat": 4,
 "nbformat_minor": 5
}
